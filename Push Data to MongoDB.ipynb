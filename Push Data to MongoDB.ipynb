{
 "cells": [
  {
   "cell_type": "code",
   "execution_count": null,
   "metadata": {},
   "outputs": [],
   "source": [
    "pip install \"pymongo[srv]\""
   ]
  },
  {
   "cell_type": "code",
   "execution_count": 7,
   "metadata": {},
   "outputs": [],
   "source": [
    "import pymongo\n",
    "import json"
   ]
  },
  {
   "cell_type": "code",
   "execution_count": 33,
   "metadata": {},
   "outputs": [],
   "source": [
    "# Connect to the MongoDB cluster\n",
    "my_client = pymongo.MongoClient(\"mongodb+srv://66aadesh:<password>@cluster0.ng9n7ca.mongodb.net/?retryWrites=true&w=majority\")\n",
    "\n",
    "# Access the database\n",
    "my_db = my_client[\"my_first_mongodb\"]\n",
    "\n",
    "# Access the collection\n",
    "my_collection = my_db[\"IPL_Matches_All\"]\n"
   ]
  },
  {
   "cell_type": "code",
   "execution_count": 24,
   "metadata": {},
   "outputs": [
    {
     "data": {
      "text/plain": [
       "1032"
      ]
     },
     "execution_count": 24,
     "metadata": {},
     "output_type": "execute_result"
    }
   ],
   "source": [
    "# Load data from the JSON file\n",
    "with open(r'C:\\Users\\Aditya Dixit\\Desktop\\Writing works\\PYTHON PRACTICE\\Web Scraping - To Scrape\\Data\\JSON\\IPL-ALL-MATCHES.json', encoding='ISO-8859-1') as f:\n",
    "\n",
    "    data = json.load(f)\n",
    "\n",
    "len(data)"
   ]
  },
  {
   "cell_type": "code",
   "execution_count": 34,
   "metadata": {},
   "outputs": [
    {
     "name": "stdout",
     "output_type": "stream",
     "text": [
      "Data inserted successfully.\n"
     ]
    }
   ],
   "source": [
    "# # Insert the data into the collection\n",
    "# my_collection.insert_one(data[0])\n",
    "\n",
    "# print(\"Data inserted successfully.\")"
   ]
  },
  {
   "cell_type": "code",
   "execution_count": 36,
   "metadata": {},
   "outputs": [
    {
     "name": "stdout",
     "output_type": "stream",
     "text": [
      "Data inserted successfully.\n"
     ]
    }
   ],
   "source": [
    "# Insert the data into the collection\n",
    "my_collection.insert_many(data)\n",
    "\n",
    "print(\"Data inserted successfully.\")"
   ]
  }
 ],
 "metadata": {
  "kernelspec": {
   "display_name": "base",
   "language": "python",
   "name": "python3"
  },
  "language_info": {
   "codemirror_mode": {
    "name": "ipython",
    "version": 3
   },
   "file_extension": ".py",
   "mimetype": "text/x-python",
   "name": "python",
   "nbconvert_exporter": "python",
   "pygments_lexer": "ipython3",
   "version": "3.11.4"
  }
 },
 "nbformat": 4,
 "nbformat_minor": 2
}
